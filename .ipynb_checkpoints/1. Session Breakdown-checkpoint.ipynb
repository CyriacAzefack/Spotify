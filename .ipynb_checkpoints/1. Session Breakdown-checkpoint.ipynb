{
 "cells": [
  {
   "cell_type": "code",
   "execution_count": 2,
   "metadata": {
    "collapsed": true
   },
   "outputs": [],
   "source": [
    "import matplotlib.pyplot as plt\n",
    "import numpy as np\n",
    "import pandas as pd\n",
    "import seaborn as sns\n",
    "from scipy import stats \n",
    "sns.set(style=\"whitegrid\")\n",
    "\n",
    "\n",
    "%matplotlib inline"
   ]
  },
  {
   "cell_type": "markdown",
   "metadata": {},
   "source": [
    "<h1>Take Home Assigment : Listening Sessions</h1>"
   ]
  },
  {
   "cell_type": "markdown",
   "metadata": {},
   "source": [
    "<h2>Dataset Description</h2>\n",
    "<ul>                                                                                         \n",
    "    <li>end_song_sample.csv</li>\n",
    "    <ul>\n",
    "        <li><b>ms_played</b> -- the amount of time the user listened to this track, in milliseconds         </li>\n",
    "        <li><b>context</b> -- the UI context the track was played from (e.g. playlist or artist page)       </li>\n",
    "        <li><b>track_id</b> -- the random UUID for the track                                                </li>\n",
    "        <li><b>product</b> -- the product status (e.g. free or paid)                                        </li>\n",
    "        <li><b>end_timestamp</b> -- the Epoch timestamp that marks the end of the listen                    </li>\n",
    "        <li><b>user_id</b> -- the anonymous, random UUID of the user                                        </li>\n",
    "    </ul>\n",
    "    <li>user_data_sample.csv</li>\n",
    "    <ul>\n",
    "        <li><b>gender</b> -- the gender of the user (male or female)                                        </li>\n",
    "        <li><b>age_range</b> -- a bucketed age of the user                                                  </li>\n",
    "        <li><b>country</b> -- the country where the user registered                                         </li>\n",
    "        <li><b>acct_age_weeks</b> -- the age of the user's account in weeks as of Oct 14th, 2015            </li>\n",
    "        <li><b>user_id</b> -- the anonymous, random UUID of the user                                        </li>\n",
    "    </ul>\n",
    "</ul>"
   ]
  },
  {
   "cell_type": "markdown",
   "metadata": {},
   "source": [
    "<h2>Read the data</h2>"
   ]
  },
  {
   "cell_type": "code",
   "execution_count": 3,
   "metadata": {
    "collapsed": false
   },
   "outputs": [],
   "source": [
    "users = pd.read_csv(\"user_data_sample.csv\")\n",
    "songs = pd.read_csv(\"end_song_sample.csv\")\n",
    "data = songs.merge(users, how='inner', on='user_id')"
   ]
  },
  {
   "cell_type": "code",
   "execution_count": 4,
   "metadata": {
    "collapsed": false
   },
   "outputs": [
    {
     "data": {
      "text/html": [
       "<div>\n",
       "<table border=\"1\" class=\"dataframe\">\n",
       "  <thead>\n",
       "    <tr style=\"text-align: right;\">\n",
       "      <th></th>\n",
       "      <th>ms_played</th>\n",
       "      <th>end_timestamp</th>\n",
       "      <th>acct_age_weeks</th>\n",
       "    </tr>\n",
       "  </thead>\n",
       "  <tbody>\n",
       "    <tr>\n",
       "      <th>count</th>\n",
       "      <td>1.342891e+06</td>\n",
       "      <td>1.342891e+06</td>\n",
       "      <td>1.342891e+06</td>\n",
       "    </tr>\n",
       "    <tr>\n",
       "      <th>mean</th>\n",
       "      <td>1.287120e+05</td>\n",
       "      <td>1.444270e+09</td>\n",
       "      <td>7.936324e+01</td>\n",
       "    </tr>\n",
       "    <tr>\n",
       "      <th>std</th>\n",
       "      <td>1.200548e+05</td>\n",
       "      <td>3.518090e+05</td>\n",
       "      <td>7.656259e+01</td>\n",
       "    </tr>\n",
       "    <tr>\n",
       "      <th>min</th>\n",
       "      <td>0.000000e+00</td>\n",
       "      <td>1.443658e+09</td>\n",
       "      <td>-1.000000e+00</td>\n",
       "    </tr>\n",
       "    <tr>\n",
       "      <th>25%</th>\n",
       "      <td>3.778000e+03</td>\n",
       "      <td>1.443964e+09</td>\n",
       "      <td>1.900000e+01</td>\n",
       "    </tr>\n",
       "    <tr>\n",
       "      <th>50%</th>\n",
       "      <td>1.476780e+05</td>\n",
       "      <td>1.444272e+09</td>\n",
       "      <td>5.500000e+01</td>\n",
       "    </tr>\n",
       "    <tr>\n",
       "      <th>75%</th>\n",
       "      <td>2.228010e+05</td>\n",
       "      <td>1.444574e+09</td>\n",
       "      <td>1.210000e+02</td>\n",
       "    </tr>\n",
       "    <tr>\n",
       "      <th>max</th>\n",
       "      <td>5.100017e+06</td>\n",
       "      <td>1.444867e+09</td>\n",
       "      <td>3.630000e+02</td>\n",
       "    </tr>\n",
       "  </tbody>\n",
       "</table>\n",
       "</div>"
      ],
      "text/plain": [
       "          ms_played  end_timestamp  acct_age_weeks\n",
       "count  1.342891e+06   1.342891e+06    1.342891e+06\n",
       "mean   1.287120e+05   1.444270e+09    7.936324e+01\n",
       "std    1.200548e+05   3.518090e+05    7.656259e+01\n",
       "min    0.000000e+00   1.443658e+09   -1.000000e+00\n",
       "25%    3.778000e+03   1.443964e+09    1.900000e+01\n",
       "50%    1.476780e+05   1.444272e+09    5.500000e+01\n",
       "75%    2.228010e+05   1.444574e+09    1.210000e+02\n",
       "max    5.100017e+06   1.444867e+09    3.630000e+02"
      ]
     },
     "execution_count": 4,
     "metadata": {},
     "output_type": "execute_result"
    }
   ],
   "source": [
    "data.describe()"
   ]
  },
  {
   "cell_type": "markdown",
   "metadata": {},
   "source": [
    "<h1>Define listening sessions</h1>"
   ]
  },
  {
   "cell_type": "code",
   "execution_count": 5,
   "metadata": {
    "collapsed": false
   },
   "outputs": [],
   "source": [
    "import datetime\n",
    "\n",
    "data['start_timestamp'] = (data['end_timestamp']*1000 - data['ms_played'])/1000.0\n",
    "\n",
    "#Convert timestamps to date\n",
    "data['start_date'] = data['start_timestamp'].apply(lambda x: datetime.datetime.fromtimestamp(x).strftime('%Y-%m-%d %H:%M:%S.%f'))\n",
    "                                                                                     \n",
    "data['end_date'] = data['end_timestamp'].apply(lambda x: datetime.datetime.fromtimestamp(x).strftime('%Y-%m-%d %H:%M:%S.%f'))\n",
    " "
   ]
  },
  {
   "cell_type": "markdown",
   "metadata": {},
   "source": [
    "<h2>Exploration on a specific user</h2>"
   ]
  },
  {
   "cell_type": "code",
   "execution_count": 6,
   "metadata": {
    "collapsed": false
   },
   "outputs": [
    {
     "name": "stdout",
     "output_type": "stream",
     "text": [
      "The user id of the user with the most tracks listened is 8d758d1cf1ae4a6aac3ada5576b4fc25 and he has listened 4409 tracks\n"
     ]
    },
    {
     "data": {
      "text/html": [
       "<div>\n",
       "<table border=\"1\" class=\"dataframe\">\n",
       "  <thead>\n",
       "    <tr style=\"text-align: right;\">\n",
       "      <th></th>\n",
       "      <th>user_id</th>\n",
       "      <th>count_tracks</th>\n",
       "    </tr>\n",
       "  </thead>\n",
       "  <tbody>\n",
       "    <tr>\n",
       "      <th>5280</th>\n",
       "      <td>8d758d1cf1ae4a6aac3ada5576b4fc25</td>\n",
       "      <td>4409</td>\n",
       "    </tr>\n",
       "    <tr>\n",
       "      <th>7788</th>\n",
       "      <td>d10c8673c24048edb5ab72cfdc803b34</td>\n",
       "      <td>3869</td>\n",
       "    </tr>\n",
       "    <tr>\n",
       "      <th>62</th>\n",
       "      <td>01d7789847e9489aaca7230b8cf7f145</td>\n",
       "      <td>3471</td>\n",
       "    </tr>\n",
       "    <tr>\n",
       "      <th>7638</th>\n",
       "      <td>cd21473103fc4fe987008baa2060fea0</td>\n",
       "      <td>3374</td>\n",
       "    </tr>\n",
       "    <tr>\n",
       "      <th>1552</th>\n",
       "      <td>289d885bb40f4d84b8499e879fa080a1</td>\n",
       "      <td>3308</td>\n",
       "    </tr>\n",
       "  </tbody>\n",
       "</table>\n",
       "</div>"
      ],
      "text/plain": [
       "                               user_id  count_tracks\n",
       "5280  8d758d1cf1ae4a6aac3ada5576b4fc25          4409\n",
       "7788  d10c8673c24048edb5ab72cfdc803b34          3869\n",
       "62    01d7789847e9489aaca7230b8cf7f145          3471\n",
       "7638  cd21473103fc4fe987008baa2060fea0          3374\n",
       "1552  289d885bb40f4d84b8499e879fa080a1          3308"
      ]
     },
     "execution_count": 6,
     "metadata": {},
     "output_type": "execute_result"
    }
   ],
   "source": [
    "#Find the user with the mosts tracks listened\n",
    "user_count_tracks = data.groupby(['user_id'], as_index=False).agg({'track_id':'count'})\n",
    "user_count_tracks.columns = ['user_id', 'count_tracks']\n",
    "\n",
    "user_count_tracks = user_count_tracks.sort_values(\"count_tracks\", ascending=False)\n",
    "\n",
    "max_tracks_listened = user_count_tracks.count_tracks.max()\n",
    "user_star_id = user_count_tracks[user_count_tracks.count_tracks ==  max_tracks_listened]['user_id'].values[0]\n",
    "print('The user id of the user with the most tracks listened is', user_star_id, 'and he has listened', max_tracks_listened, 'tracks')\n",
    "user_count_tracks.head()"
   ]
  },
  {
   "cell_type": "code",
   "execution_count": 7,
   "metadata": {
    "collapsed": false
   },
   "outputs": [
    {
     "name": "stdout",
     "output_type": "stream",
     "text": [
      "4409 Tracks on the dataframe before\n",
      "258 Tracks on the dataframe after\n"
     ]
    },
    {
     "name": "stderr",
     "output_type": "stream",
     "text": [
      "C:\\Users\\i327247\\AppData\\Local\\Continuum\\Anaconda3\\lib\\site-packages\\ipykernel\\__main__.py:7: FutureWarning: sort(columns=....) is deprecated, use sort_values(by=.....)\n"
     ]
    }
   ],
   "source": [
    "data_star = data[data.user_id == user_star_id]\n",
    "print(len(data_star),'Tracks on the dataframe before')\n",
    "#We take a sample of the data (8 hours)\n",
    "data_star = data_star[(data_star.start_date > '2015-10-14 07:00:00') & (data_star.start_date < '2015-10-14 15:00:00')]\n",
    "\n",
    "print(len(data_star),'Tracks on the dataframe after')\n",
    "data_star = data_star.sort('start_timestamp', ascending=True)"
   ]
  },
  {
   "cell_type": "code",
   "execution_count": 8,
   "metadata": {
    "collapsed": false,
    "scrolled": true
   },
   "outputs": [
    {
     "data": {
      "text/plain": [
       "<seaborn.axisgrid.JointGrid at 0x2a6caaf4160>"
      ]
     },
     "execution_count": 8,
     "metadata": {},
     "output_type": "execute_result"
    },
    {
     "data": {
      "image/png": "[encoded data removed]",
      "text/plain": [
       "<matplotlib.figure.Figure at 0x2a6caaf4128>"
      ]
     },
     "metadata": {},
     "output_type": "display_data"
    }
   ],
   "source": [
    "sns.jointplot(x=\"start_timestamp\", y=\"ms_played\", data=data_star,stat_func=None, marginal_kws=dict(bins=50, rug=False)).set_axis_labels(\"Epoch Start timestamp\", \"Listening time (ms)\")"
   ]
  },
  {
   "cell_type": "markdown",
   "metadata": {},
   "source": [
    "For this user We can see that we have <b>5</b> differents listening sessions (maybe <b>6</b> with the blue one, it's gonna depend of the definition of a session) with differents duration for the 8 hours time period we choosed to study.<br/>\n",
    "<img src=\"./session_breakdown.JPG\">"
   ]
  },
  {
   "cell_type": "markdown",
   "metadata": {},
   "source": [
    "Let's assume that all others users have the same listening behavior, meaning that their overall listening can be separate in sessions.<br/>\n",
    "Let's now define what the hell it's a Session."
   ]
  },
  {
   "cell_type": "code",
   "execution_count": 9,
   "metadata": {
    "collapsed": false,
    "scrolled": false
   },
   "outputs": [
    {
     "data": {
      "text/plain": [
       "<matplotlib.text.Text at 0x2a6d0268128>"
      ]
     },
     "execution_count": 9,
     "metadata": {},
     "output_type": "execute_result"
    },
    {
     "data": {
      "image/png": "[encoded data removed]",
      "text/plain": [
       "<matplotlib.figure.Figure at 0x2a6cf853e48>"
      ]
     },
     "metadata": {},
     "output_type": "display_data"
    }
   ],
   "source": [
    "#Let's see the distribution of the time gap between two consecutives tracks\n",
    "\n",
    "data_star['wait_time'] = np.zeros(len(data_star))\n",
    "\n",
    "prev_row = None\n",
    "for row in data_star.itertuples():\n",
    "    if (prev_row != None) :\n",
    "        wait_time = np.abs(row.start_timestamp - prev_row.end_timestamp)\n",
    "        data_star.set_value(prev_row.Index, 'wait_time', wait_time)\n",
    "        prev_row = row\n",
    "    else :\n",
    "        prev_row = row\n",
    "\n",
    "plt.plot(data_star['end_timestamp'], data_star['wait_time'], '-', \n",
    "         marker='o',  markersize=3,  markerfacecolor='blue', color ='black')\n",
    "plt.xlabel(\"Epoch End Timestamp\")\n",
    "plt.ylabel(\"Time before the next track (s)\")\n",
    "plt.title(\"Time between tracks\")\n"
   ]
  },
  {
   "cell_type": "markdown",
   "metadata": {},
   "source": [
    "Yeaaah !! We can clearly see the listening sessions we found earlier represented by the 6 peaks on the curve.<br />\n",
    "When the curve goes very high, it means there is a lot of time between two tracks. So those peaks represents the separation between sessions.<br/>\n",
    "The peak at the start indicates that the users has just finished a listening session : remember that we took a 8 hour sample of the data. So we can assume that the beginning of a sample was the end of one of his listening session.\n",
    "<img src=\"./session_breakdown_wait_time.JPG\">"
   ]
  },
  {
   "cell_type": "markdown",
   "metadata": {},
   "source": [
    "Graphically we can see the peaks, for this one i decided that when the wait time is greater than <b>500 ms</b>, it's the end of a session. 500ms cause it looks like a good threshold in this case. But let's remember this is just a sample. Others users may have a different wait time distribution. So instead of using a wait time treshold which might change a lot from one user to another, i'm going to use a statiscal indicator called <b>Z-Score</b>.<br/>\n",
    "The <b>Z-Score</b> is a numerical measurement of a value's relationship to the mean in a group of values. If a Z-score is 0, it represents the score is identical to the mean score. It allows you to identifie the outliers on a distribution and in our case we are only interested in those outliers\n",
    "\n",
    "Z-Score = (value - mean)/std\n",
    "\n",
    "Instead of a treshold on the wait time. I use a treshold on the Z-Score. \n",
    "I choose <b>Z-Score_treshold = 2</b>"
   ]
  },
  {
   "cell_type": "code",
   "execution_count": 10,
   "metadata": {
    "collapsed": true
   },
   "outputs": [],
   "source": [
    "zscore_th = 3"
   ]
  },
  {
   "cell_type": "code",
   "execution_count": 11,
   "metadata": {
    "collapsed": false
   },
   "outputs": [],
   "source": [
    "data_star['zscore'] = stats.zscore(data_star['wait_time'])\n",
    "\n",
    "data_star['session_id'] = 0\n",
    "\n",
    "current_session_id = 0\n",
    "\n",
    "for row in data_star.itertuples() :\n",
    "    data_star.set_value(row.Index ,'session_id', current_session_id)\n",
    "    if (row.zscore > zscore_th) :\n",
    "        current_session_id += 1"
   ]
  },
  {
   "cell_type": "code",
   "execution_count": 12,
   "metadata": {
    "collapsed": false
   },
   "outputs": [
    {
     "data": {
      "text/plain": [
       "<seaborn.axisgrid.FacetGrid at 0x2a6d026ecc0>"
      ]
     },
     "execution_count": 12,
     "metadata": {},
     "output_type": "execute_result"
    },
    {
     "data": {
      "image/png": "[encoded data removed]",
      "text/plain": [
       "<matplotlib.figure.Figure at 0x2a6d026e7f0>"
      ]
     },
     "metadata": {},
     "output_type": "display_data"
    }
   ],
   "source": [
    "sns.lmplot(\"start_timestamp\", \"ms_played\", data=data_star, hue='session_id', fit_reg=False)"
   ]
  },
  {
   "cell_type": "markdown",
   "metadata": {
    "collapsed": true
   },
   "source": [
    "We managed to define what is a session and detect them for a specific user on a specific time period. Let's now apply this on the whole dataset."
   ]
  },
  {
   "cell_type": "markdown",
   "metadata": {},
   "source": [
    "<h2>Sessions for all</h2>"
   ]
  },
  {
   "cell_type": "code",
   "execution_count": 13,
   "metadata": {
    "collapsed": false
   },
   "outputs": [
    {
     "name": "stdout",
     "output_type": "stream",
     "text": [
      "There is 9565 unique users\n"
     ]
    }
   ],
   "source": [
    "user_id_list = list(data.user_id.unique())\n",
    "\n",
    "print('There is', len(user_id_list), 'unique users')"
   ]
  },
  {
   "cell_type": "code",
   "execution_count": 14,
   "metadata": {
    "collapsed": true
   },
   "outputs": [],
   "source": [
    "#Let's create the sessions dataframe\n",
    "df_sessions = pd.DataFrame(columns=['session_id', 'user_id', 'start_timestamp','start_date', 'duration'])"
   ]
  },
  {
   "cell_type": "code",
   "execution_count": 15,
   "metadata": {
    "collapsed": false,
    "scrolled": true
   },
   "outputs": [
    {
     "name": "stderr",
     "output_type": "stream",
     "text": [
      "C:\\Users\\i327247\\AppData\\Local\\Continuum\\Anaconda3\\lib\\site-packages\\ipykernel\\__main__.py:11: SettingWithCopyWarning: \n",
      "A value is trying to be set on a copy of a slice from a DataFrame.\n",
      "Try using .loc[row_indexer,col_indexer] = value instead\n",
      "\n",
      "See the caveats in the documentation: http://pandas.pydata.org/pandas-docs/stable/indexing.html#indexing-view-versus-copy\n",
      "C:\\Users\\i327247\\AppData\\Local\\Continuum\\Anaconda3\\lib\\site-packages\\ipykernel\\__main__.py:22: SettingWithCopyWarning: \n",
      "A value is trying to be set on a copy of a slice from a DataFrame.\n",
      "Try using .loc[row_indexer,col_indexer] = value instead\n",
      "\n",
      "See the caveats in the documentation: http://pandas.pydata.org/pandas-docs/stable/indexing.html#indexing-view-versus-copy\n"
     ]
    },
    {
     "name": "stdout",
     "output_type": "stream",
     "text": [
      "0 /9565\n",
      "100 /9565\n",
      "200 /9565\n",
      "300 /9565\n",
      "400 /9565\n",
      "500 /9565\n",
      "600 /9565\n",
      "700 /9565\n",
      "800 /9565\n",
      "900 /9565\n",
      "1000 /9565\n",
      "1100 /9565\n",
      "1200 /9565\n",
      "1300 /9565\n",
      "1400 /9565\n",
      "1500 /9565\n",
      "1600 /9565\n",
      "1700 /9565\n",
      "1800 /9565\n",
      "1900 /9565\n",
      "2000 /9565\n",
      "2100 /9565\n",
      "2200 /9565\n",
      "2300 /9565\n",
      "2400 /9565\n",
      "2500 /9565\n",
      "2600 /9565\n",
      "2700 /9565\n",
      "2800 /9565\n",
      "2900 /9565\n",
      "3000 /9565\n",
      "3100 /9565\n",
      "3200 /9565\n",
      "3300 /9565\n",
      "3400 /9565\n",
      "3500 /9565\n",
      "3600 /9565\n",
      "3700 /9565\n",
      "3800 /9565\n",
      "3900 /9565\n",
      "4000 /9565\n",
      "4100 /9565\n",
      "4200 /9565\n",
      "4300 /9565\n",
      "4400 /9565\n",
      "4500 /9565\n",
      "4600 /9565\n",
      "4700 /9565\n",
      "4800 /9565\n",
      "4900 /9565\n",
      "5000 /9565\n",
      "5100 /9565\n",
      "5200 /9565\n",
      "5300 /9565\n",
      "5400 /9565\n",
      "5500 /9565\n",
      "5600 /9565\n",
      "5700 /9565\n",
      "5800 /9565\n",
      "5900 /9565\n",
      "6000 /9565\n",
      "6100 /9565\n",
      "6200 /9565\n",
      "6300 /9565\n",
      "6400 /9565\n",
      "6500 /9565\n",
      "6600 /9565\n",
      "6700 /9565\n",
      "6800 /9565\n",
      "6900 /9565\n",
      "7000 /9565\n",
      "7100 /9565\n",
      "7200 /9565\n",
      "7300 /9565\n",
      "7400 /9565\n",
      "7500 /9565\n",
      "7600 /9565\n",
      "7700 /9565\n",
      "7800 /9565\n",
      "7900 /9565\n",
      "8000 /9565\n",
      "8100 /9565\n",
      "8200 /9565\n",
      "8300 /9565\n",
      "8400 /9565\n",
      "8500 /9565\n",
      "8600 /9565\n",
      "8700 /9565\n",
      "8800 /9565\n",
      "8900 /9565\n",
      "9000 /9565\n",
      "9100 /9565\n",
      "9200 /9565\n",
      "9300 /9565\n",
      "9400 /9565\n",
      "9500 /9565\n"
     ]
    }
   ],
   "source": [
    "#For every user let's compute all his sessions\n",
    "\n",
    "data['session_id'] = -1\n",
    "zscore_th = 2\n",
    "\n",
    "current_session_id = 0\n",
    "for user_id in user_id_list :\n",
    "    tracks_user = data[data.user_id == user_id]\n",
    "    \n",
    "    #Compute the wait_time\n",
    "    tracks_user['wait_time'] = 0\n",
    "    prev_row = None\n",
    "    for row in tracks_user.itertuples():\n",
    "        if (prev_row != None) :\n",
    "            wait_time = np.abs(row.start_timestamp - prev_row.end_timestamp)\n",
    "            tracks_user.set_value(prev_row.Index, 'wait_time', wait_time)\n",
    "            prev_row = row\n",
    "        else :\n",
    "            prev_row = row\n",
    "    \n",
    "    #Compute the Z-Score\n",
    "    tracks_user['zscore'] = stats.zscore(tracks_user['wait_time'])\n",
    "    \n",
    "    for row in tracks_user.itertuples() :\n",
    "        data.set_value(row.Index ,'session_id', current_session_id)\n",
    "        if (row.zscore > zscore_th) :\n",
    "            current_session_id += 1\n",
    "    \n",
    "    e = user_id_list.index(user_id)\n",
    "    if(e%100 == 0):\n",
    "        print(e,'/9565')\n",
    "    #When we finish with an user we increment the session_id        \n",
    "    current_session_id += 1\n"
   ]
  },
  {
   "cell_type": "code",
   "execution_count": 16,
   "metadata": {
    "collapsed": false
   },
   "outputs": [],
   "source": [
    "data.to_csv('all_data_session_breakdown_zscore_3.csv')"
   ]
  },
  {
   "cell_type": "code",
   "execution_count": 17,
   "metadata": {
    "collapsed": false
   },
   "outputs": [
    {
     "data": {
      "text/plain": [
       "<matplotlib.text.Text at 0x2a6cff9a080>"
      ]
     },
     "execution_count": 17,
     "metadata": {},
     "output_type": "execute_result"
    },
    {
     "data": {
      "image/png": "[encoded data removed]",
      "text/plain": [
       "<matplotlib.figure.Figure at 0x2a6cff03470>"
      ]
     },
     "metadata": {},
     "output_type": "display_data"
    }
   ],
   "source": [
    "#Listening per session\n",
    "sessions_duration = data.groupby(['session_id', 'gender'], as_index=False).agg({\"ms_played\":\"sum\"})\n",
    "sessions_duration.columns = ['session_id', 'gender', 'sum_ms_played']\n",
    "\n",
    "sessions_duration.sum_ms_played.hist(bins=100)\n",
    "plt.xlabel('Sum of tracks listened (ms)')\n",
    "plt.ylabel('Number of sessions')\n",
    "plt.title('Sessions duration distribution')"
   ]
  },
  {
   "cell_type": "code",
   "execution_count": 1,
   "metadata": {
    "collapsed": false
   },
   "outputs": [
    {
     "ename": "NameError",
     "evalue": "name 'sns' is not defined",
     "output_type": "error",
     "traceback": [
      "\u001b[0;31m---------------------------------------------------------------------------\u001b[0m",
      "\u001b[0;31mNameError\u001b[0m                                 Traceback (most recent call last)",
      "\u001b[0;32m<ipython-input-1-dbc96d537b2b>\u001b[0m in \u001b[0;36m<module>\u001b[0;34m()\u001b[0m\n\u001b[0;32m----> 1\u001b[0;31m \u001b[0mg\u001b[0m \u001b[1;33m=\u001b[0m \u001b[0msns\u001b[0m\u001b[1;33m.\u001b[0m\u001b[0mFacetGrid\u001b[0m\u001b[1;33m(\u001b[0m\u001b[0msessions_duration\u001b[0m\u001b[1;33m,\u001b[0m \u001b[0mcol\u001b[0m\u001b[1;33m=\u001b[0m\u001b[1;34m\"gender\"\u001b[0m\u001b[1;33m,\u001b[0m \u001b[0mmargin_titles\u001b[0m\u001b[1;33m=\u001b[0m\u001b[1;32mTrue\u001b[0m\u001b[1;33m)\u001b[0m\u001b[1;33m\u001b[0m\u001b[0m\n\u001b[0m\u001b[1;32m      2\u001b[0m \u001b[0mbins\u001b[0m \u001b[1;33m=\u001b[0m \u001b[0mnp\u001b[0m\u001b[1;33m.\u001b[0m\u001b[0mlinspace\u001b[0m\u001b[1;33m(\u001b[0m\u001b[1;36m0\u001b[0m\u001b[1;33m,\u001b[0m \u001b[1;36m1e8\u001b[0m\u001b[1;33m,\u001b[0m \u001b[1;36m40\u001b[0m\u001b[1;33m)\u001b[0m\u001b[1;33m\u001b[0m\u001b[0m\n\u001b[1;32m      3\u001b[0m \u001b[0mg\u001b[0m\u001b[1;33m.\u001b[0m\u001b[0mmap\u001b[0m\u001b[1;33m(\u001b[0m\u001b[0mplt\u001b[0m\u001b[1;33m.\u001b[0m\u001b[0mhist\u001b[0m\u001b[1;33m,\u001b[0m \u001b[1;34m\"sum_ms_played\"\u001b[0m\u001b[1;33m,\u001b[0m \u001b[0mcolor\u001b[0m\u001b[1;33m=\u001b[0m\u001b[1;34m\"steelblue\"\u001b[0m\u001b[1;33m,\u001b[0m \u001b[0mbins\u001b[0m\u001b[1;33m=\u001b[0m\u001b[1;36m1000\u001b[0m\u001b[1;33m,\u001b[0m \u001b[0mlw\u001b[0m\u001b[1;33m=\u001b[0m\u001b[1;36m1\u001b[0m\u001b[1;33m)\u001b[0m\u001b[1;33m\u001b[0m\u001b[0m\n",
      "\u001b[0;31mNameError\u001b[0m: name 'sns' is not defined"
     ]
    }
   ],
   "source": [
    "g = sns.FacetGrid(sessions_duration, col=\"gender\", margin_titles=True)\n",
    "bins = np.linspace(0, 1e8, 40)\n",
    "g.map(plt.hist, \"sum_ms_played\", color=\"steelblue\", bins=1000, lw=1)"
   ]
  },
  {
   "cell_type": "code",
   "execution_count": null,
   "metadata": {
    "collapsed": true
   },
   "outputs": [],
   "source": []
  },
  {
   "cell_type": "code",
   "execution_count": 19,
   "metadata": {
    "collapsed": false
   },
   "outputs": [
    {
     "ename": "NameError",
     "evalue": "name 'dqsdqsdsd' is not defined",
     "output_type": "error",
     "traceback": [
      "\u001b[0;31m---------------------------------------------------------------------------\u001b[0m",
      "\u001b[0;31mNameError\u001b[0m                                 Traceback (most recent call last)",
      "\u001b[0;32m<ipython-input-19-c6b143064b6f>\u001b[0m in \u001b[0;36m<module>\u001b[0;34m()\u001b[0m\n\u001b[0;32m----> 1\u001b[0;31m \u001b[0mdqsdqsdsd\u001b[0m\u001b[1;33m[\u001b[0m\u001b[1;33m[\u001b[0m\u001b[1;34m'aaa'\u001b[0m\u001b[1;33m,\u001b[0m \u001b[1;34m'addd'\u001b[0m\u001b[1;33m,\u001b[0m \u001b[1;34m'ffdffsq'\u001b[0m\u001b[1;33m]\u001b[0m\u001b[1;33m]\u001b[0m\u001b[1;33m\u001b[0m\u001b[0m\n\u001b[0m",
      "\u001b[0;31mNameError\u001b[0m: name 'dqsdqsdsd' is not defined"
     ]
    }
   ],
   "source": [
    "dqsdqsdsd[['aaa', 'addd', 'ffdffsq']]"
   ]
  }
 ],
 "metadata": {
  "anaconda-cloud": {},
  "kernelspec": {
   "display_name": "Python [default]",
   "language": "python",
   "name": "python3"
  },
  "language_info": {
   "codemirror_mode": {
    "name": "ipython",
    "version": 3
   },
   "file_extension": ".py",
   "mimetype": "text/x-python",
   "name": "python",
   "nbconvert_exporter": "python",
   "pygments_lexer": "ipython3",
   "version": "3.5.2"
  }
 },
 "nbformat": 4,
 "nbformat_minor": 1
}
